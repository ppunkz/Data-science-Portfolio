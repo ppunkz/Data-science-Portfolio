{
  "nbformat": 4,
  "nbformat_minor": 0,
  "metadata": {
    "colab": {
      "name": "Automating Portfolio Optimization and Allocation using Python.ipynb",
      "provenance": [],
      "authorship_tag": "ABX9TyOb0BOxY/GEl2Z8sc5R6Hb4",
      "include_colab_link": true
    },
    "kernelspec": {
      "name": "python3",
      "display_name": "Python 3"
    }
  },
  "cells": [
    {
      "cell_type": "markdown",
      "metadata": {
        "id": "view-in-github",
        "colab_type": "text"
      },
      "source": [
        "<a href=\"https://colab.research.google.com/github/ppunkz/Portfoliobuilding/blob/master/Automating_Portfolio_Optimization_and_Allocation_using_Python.ipynb\" target=\"_parent\"><img src=\"https://colab.research.google.com/assets/colab-badge.svg\" alt=\"Open In Colab\"/></a>"
      ]
    },
    {
      "cell_type": "code",
      "metadata": {
        "id": "dMS9E8GmMBMG",
        "colab_type": "code",
        "colab": {
          "base_uri": "https://localhost:8080/",
          "height": 70
        },
        "outputId": "a6ea4ec4-0412-424a-d473-af2c68f5b67b"
      },
      "source": [
        "#Importing all required libraries\n",
        "import matplotlib.pyplot as plt\n",
        "import numpy as np\n",
        "import pandas as pd\n",
        "import pandas_datareader as web\n",
        "from matplotlib.ticker import FuncFormatter"
      ],
      "execution_count": null,
      "outputs": [
        {
          "output_type": "stream",
          "text": [
            "/usr/local/lib/python3.6/dist-packages/pandas_datareader/compat/__init__.py:7: FutureWarning: pandas.util.testing is deprecated. Use the functions in the public API at pandas.testing instead.\n",
            "  from pandas.util.testing import assert_frame_equal\n"
          ],
          "name": "stderr"
        }
      ]
    },
    {
      "cell_type": "code",
      "metadata": {
        "id": "PQwiYvjhk1bO",
        "colab_type": "code",
        "colab": {
          "base_uri": "https://localhost:8080/",
          "height": 319
        },
        "outputId": "c3a35ce8-cea1-4ea9-a438-be5ecae38d15"
      },
      "source": [
        "pip install PyPortfolioOpt"
      ],
      "execution_count": null,
      "outputs": [
        {
          "output_type": "stream",
          "text": [
            "Collecting PyPortfolioOpt\n",
            "\u001b[?25l  Downloading https://files.pythonhosted.org/packages/4a/4a/043a7207683e3ab5698ea0828254e99cda718ef43d8b6785fb41b70037c1/PyPortfolioOpt-1.2.4-py3-none-any.whl (48kB)\n",
            "\r\u001b[K     |██████▉                         | 10kB 17.6MB/s eta 0:00:01\r\u001b[K     |█████████████▋                  | 20kB 1.5MB/s eta 0:00:01\r\u001b[K     |████████████████████▍           | 30kB 2.1MB/s eta 0:00:01\r\u001b[K     |███████████████████████████▏    | 40kB 2.4MB/s eta 0:00:01\r\u001b[K     |████████████████████████████████| 51kB 1.5MB/s \n",
            "\u001b[?25hRequirement already satisfied: pandas>=0.19 in /usr/local/lib/python3.6/dist-packages (from PyPortfolioOpt) (1.0.5)\n",
            "Requirement already satisfied: numpy<2.0,>=1.12 in /usr/local/lib/python3.6/dist-packages (from PyPortfolioOpt) (1.18.5)\n",
            "Requirement already satisfied: cvxpy<1.1,>=1.0 in /usr/local/lib/python3.6/dist-packages (from PyPortfolioOpt) (1.0.31)\n",
            "Requirement already satisfied: scipy<2.0,>=1.3 in /usr/local/lib/python3.6/dist-packages (from PyPortfolioOpt) (1.4.1)\n",
            "Requirement already satisfied: pytz>=2017.2 in /usr/local/lib/python3.6/dist-packages (from pandas>=0.19->PyPortfolioOpt) (2018.9)\n",
            "Requirement already satisfied: python-dateutil>=2.6.1 in /usr/local/lib/python3.6/dist-packages (from pandas>=0.19->PyPortfolioOpt) (2.8.1)\n",
            "Requirement already satisfied: osqp>=0.4.1 in /usr/local/lib/python3.6/dist-packages (from cvxpy<1.1,>=1.0->PyPortfolioOpt) (0.6.1)\n",
            "Requirement already satisfied: multiprocess in /usr/local/lib/python3.6/dist-packages (from cvxpy<1.1,>=1.0->PyPortfolioOpt) (0.70.10)\n",
            "Requirement already satisfied: ecos>=2 in /usr/local/lib/python3.6/dist-packages (from cvxpy<1.1,>=1.0->PyPortfolioOpt) (2.0.7.post1)\n",
            "Requirement already satisfied: scs>=1.1.3 in /usr/local/lib/python3.6/dist-packages (from cvxpy<1.1,>=1.0->PyPortfolioOpt) (2.1.2)\n",
            "Requirement already satisfied: six>=1.5 in /usr/local/lib/python3.6/dist-packages (from python-dateutil>=2.6.1->pandas>=0.19->PyPortfolioOpt) (1.15.0)\n",
            "Requirement already satisfied: future in /usr/local/lib/python3.6/dist-packages (from osqp>=0.4.1->cvxpy<1.1,>=1.0->PyPortfolioOpt) (0.16.0)\n",
            "Requirement already satisfied: dill>=0.3.2 in /usr/local/lib/python3.6/dist-packages (from multiprocess->cvxpy<1.1,>=1.0->PyPortfolioOpt) (0.3.2)\n",
            "Installing collected packages: PyPortfolioOpt\n",
            "Successfully installed PyPortfolioOpt-1.2.4\n"
          ],
          "name": "stdout"
        }
      ]
    },
    {
      "cell_type": "code",
      "metadata": {
        "id": "rGDo_AdAMKcx",
        "colab_type": "code",
        "colab": {}
      },
      "source": [
        "from pypfopt.efficient_frontier import EfficientFrontier\n",
        "from pypfopt import risk_models\n",
        "from pypfopt import expected_returns\n",
        "from pypfopt.cla import CLA\n",
        "from pypfopt import plotting\n",
        "from matplotlib.ticker import FuncFormatter"
      ],
      "execution_count": null,
      "outputs": []
    },
    {
      "cell_type": "code",
      "metadata": {
        "id": "aBmRNrT8MUWb",
        "colab_type": "code",
        "colab": {
          "base_uri": "https://localhost:8080/",
          "height": 225
        },
        "outputId": "7d37ad4e-adfb-4951-b9e4-5c53a8012d8c"
      },
      "source": [
        "tickers = ['AAV.BK','PTT.BK','AOT.BK','SCC.BK','BBL.BK','MINT.BK']\n",
        "thelen = len(tickers)\n",
        "price_data = []\n",
        "for ticker in range(thelen):\n",
        "  prices = web.DataReader(tickers[ticker], start='2015-01-01', end = '2020-06-06', data_source='yahoo')\n",
        "  price_data.append(prices.assign(ticker=ticker)[['Adj Close']])\n",
        "df_stocks = pd.concat(price_data, axis=1)\n",
        "df_stocks.columns=tickers\n",
        "df_stocks.head()"
      ],
      "execution_count": null,
      "outputs": [
        {
          "output_type": "execute_result",
          "data": {
            "text/html": [
              "<div>\n",
              "<style scoped>\n",
              "    .dataframe tbody tr th:only-of-type {\n",
              "        vertical-align: middle;\n",
              "    }\n",
              "\n",
              "    .dataframe tbody tr th {\n",
              "        vertical-align: top;\n",
              "    }\n",
              "\n",
              "    .dataframe thead th {\n",
              "        text-align: right;\n",
              "    }\n",
              "</style>\n",
              "<table border=\"1\" class=\"dataframe\">\n",
              "  <thead>\n",
              "    <tr style=\"text-align: right;\">\n",
              "      <th></th>\n",
              "      <th>AAV.BK</th>\n",
              "      <th>PTT.BK</th>\n",
              "      <th>AOT.BK</th>\n",
              "      <th>SCC.BK</th>\n",
              "      <th>BBL.BK</th>\n",
              "      <th>MINT.BK</th>\n",
              "    </tr>\n",
              "    <tr>\n",
              "      <th>Date</th>\n",
              "      <th></th>\n",
              "      <th></th>\n",
              "      <th></th>\n",
              "      <th></th>\n",
              "      <th></th>\n",
              "      <th></th>\n",
              "    </tr>\n",
              "  </thead>\n",
              "  <tbody>\n",
              "    <tr>\n",
              "      <th>2015-01-05</th>\n",
              "      <td>3.756939</td>\n",
              "      <td>9.772616</td>\n",
              "      <td>17.388660</td>\n",
              "      <td>364.221069</td>\n",
              "      <td>152.504150</td>\n",
              "      <td>26.889683</td>\n",
              "    </tr>\n",
              "    <tr>\n",
              "      <th>2015-01-06</th>\n",
              "      <td>3.966629</td>\n",
              "      <td>10.020810</td>\n",
              "      <td>17.324968</td>\n",
              "      <td>357.745972</td>\n",
              "      <td>152.102829</td>\n",
              "      <td>25.831093</td>\n",
              "    </tr>\n",
              "    <tr>\n",
              "      <th>2015-01-07</th>\n",
              "      <td>4.001577</td>\n",
              "      <td>10.362075</td>\n",
              "      <td>18.025608</td>\n",
              "      <td>357.745972</td>\n",
              "      <td>153.708145</td>\n",
              "      <td>26.254513</td>\n",
              "    </tr>\n",
              "    <tr>\n",
              "      <th>2015-01-08</th>\n",
              "      <td>4.036525</td>\n",
              "      <td>10.548220</td>\n",
              "      <td>18.407776</td>\n",
              "      <td>362.602264</td>\n",
              "      <td>154.109482</td>\n",
              "      <td>27.313194</td>\n",
              "    </tr>\n",
              "    <tr>\n",
              "      <th>2015-01-09</th>\n",
              "      <td>4.123896</td>\n",
              "      <td>10.486171</td>\n",
              "      <td>18.535168</td>\n",
              "      <td>367.458527</td>\n",
              "      <td>152.504150</td>\n",
              "      <td>27.524950</td>\n",
              "    </tr>\n",
              "  </tbody>\n",
              "</table>\n",
              "</div>"
            ],
            "text/plain": [
              "              AAV.BK     PTT.BK     AOT.BK      SCC.BK      BBL.BK    MINT.BK\n",
              "Date                                                                         \n",
              "2015-01-05  3.756939   9.772616  17.388660  364.221069  152.504150  26.889683\n",
              "2015-01-06  3.966629  10.020810  17.324968  357.745972  152.102829  25.831093\n",
              "2015-01-07  4.001577  10.362075  18.025608  357.745972  153.708145  26.254513\n",
              "2015-01-08  4.036525  10.548220  18.407776  362.602264  154.109482  27.313194\n",
              "2015-01-09  4.123896  10.486171  18.535168  367.458527  152.504150  27.524950"
            ]
          },
          "metadata": {
            "tags": []
          },
          "execution_count": 7
        }
      ]
    },
    {
      "cell_type": "code",
      "metadata": {
        "id": "Y3OQ5AOrPGhk",
        "colab_type": "code",
        "colab": {
          "base_uri": "https://localhost:8080/",
          "height": 134
        },
        "outputId": "8312097b-2046-4bc4-d1f1-674cda41c554"
      },
      "source": [
        "#Checking if any NaN values in the data\n",
        "nullin_df = pd.DataFrame(df_stocks,columns=tickers)\n",
        "print(nullin_df.isnull().sum())"
      ],
      "execution_count": null,
      "outputs": [
        {
          "output_type": "stream",
          "text": [
            "AAV.BK     0\n",
            "PTT.BK     0\n",
            "AOT.BK     0\n",
            "SCC.BK     0\n",
            "BBL.BK     0\n",
            "MINT.BK    0\n",
            "dtype: int64\n"
          ],
          "name": "stdout"
        }
      ]
    },
    {
      "cell_type": "code",
      "metadata": {
        "id": "_PWRv4x8PVVs",
        "colab_type": "code",
        "colab": {}
      },
      "source": [
        "#Annualized Return\n",
        "mu = expected_returns.mean_historical_return(df_stocks)\n",
        "#Sample Variance of Portfolio\n",
        "Sigma = risk_models.sample_cov(df_stocks)"
      ],
      "execution_count": null,
      "outputs": []
    },
    {
      "cell_type": "code",
      "metadata": {
        "id": "mxopoZ57PZ86",
        "colab_type": "code",
        "colab": {
          "base_uri": "https://localhost:8080/",
          "height": 34
        },
        "outputId": "19c3f038-9aaa-41f3-c41e-a410778e8341"
      },
      "source": [
        "#Max Sharpe Ratio - Tangent to the EF\n",
        "ef = EfficientFrontier(mu, Sigma,  weight_bounds=(-1,1))\n",
        "w = ef.max_sharpe()\n",
        "print(ef.clean_weights())"
      ],
      "execution_count": null,
      "outputs": [
        {
          "output_type": "stream",
          "text": [
            "OrderedDict([('AAV.BK', -0.15889), ('PTT.BK', 0.81116), ('AOT.BK', 1.0), ('SCC.BK', -0.22114), ('BBL.BK', -0.22777), ('MINT.BK', -0.20336)])\n"
          ],
          "name": "stdout"
        }
      ]
    },
    {
      "cell_type": "code",
      "metadata": {
        "id": "58wVdaCfRod_",
        "colab_type": "code",
        "colab": {
          "base_uri": "https://localhost:8080/",
          "height": 67
        },
        "outputId": "8778477a-db7c-4e78-c4ae-3d2441de3a3d"
      },
      "source": [
        "from pypfopt import discrete_allocation, get_latest_prices\n",
        "\n",
        "latest_prices = discrete_allocation.get_latest_prices(df_stocks)\n",
        "# Allocate Portfolio Value in $ as required to show number of shares/stocks to buy, also bounds for shorting will affect allocation\n",
        "#Min Volatility Portfolio Allocation $10000\n",
        "allocation_minv, rem_minv = discrete_allocation.DiscreteAllocation(w, latest_prices, total_portfolio_value=10000).lp_portfolio()\n",
        "print('Number of shares each stock you will buy and short to get minimum volatility in the portfolio')\n",
        "print(allocation_minv)\n",
        "print(\"Leftover Fund value in$ after building minimum volatility portfolio is ${:.2f}\".format(rem_minv))"
      ],
      "execution_count": null,
      "outputs": [
        {
          "output_type": "stream",
          "text": [
            "Number of shares each stock you will buy and short to get minimum volatility in the portfolio\n",
            "{'PTT.BK': 114.0, 'AOT.BK': 82.0, 'AAV.BK': -252.0, 'SCC.BK': -2.0, 'BBL.BK': -7.0, 'MINT.BK': -35.0}\n",
            "Leftover Fund value in$ after building minimum volatility portfolio is $29.11\n"
          ],
          "name": "stdout"
        }
      ]
    },
    {
      "cell_type": "code",
      "metadata": {
        "id": "jrSCagXadV6k",
        "colab_type": "code",
        "colab": {
          "base_uri": "https://localhost:8080/",
          "height": 84
        },
        "outputId": "b6633303-a6a1-4f11-f2cb-abb35a581476"
      },
      "source": [
        "ef.portfolio_performance(verbose=True)"
      ],
      "execution_count": null,
      "outputs": [
        {
          "output_type": "stream",
          "text": [
            "Expected annual return: 56.8%\n",
            "Annual volatility: 41.6%\n",
            "Sharpe Ratio: 1.32\n"
          ],
          "name": "stdout"
        },
        {
          "output_type": "execute_result",
          "data": {
            "text/plain": [
              "(0.5676943607601772, 0.4164562514114982, 1.3151306023234677)"
            ]
          },
          "metadata": {
            "tags": []
          },
          "execution_count": 14
        }
      ]
    }
  ]
}